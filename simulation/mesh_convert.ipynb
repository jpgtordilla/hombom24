{
 "cells": [
  {
   "cell_type": "code",
   "id": "initial_id",
   "metadata": {
    "collapsed": true,
    "ExecuteTime": {
     "end_time": "2024-08-21T21:40:08.503851Z",
     "start_time": "2024-08-21T21:40:08.492816Z"
    }
   },
   "source": [
    "import numpy as np\n",
    "from netCDF4 import Dataset\n",
    "import struct\n",
    "\n",
    "def read_gen_file_binary(filename):\n",
    "    with open(filename, 'rb') as file:\n",
    "        # Read header if necessary\n",
    "        header = file.read(16)  # Adjust based on actual header size\n",
    "        # Read the number of elements (example)\n",
    "        num_elements = struct.unpack('I', header[:4])[0]  # Adjust based on actual header format\n",
    "        \n",
    "        # Read the rest of the file as binary data\n",
    "        data = file.read()\n",
    "    \n",
    "    # Check the length of the data\n",
    "    data_size = len(data)\n",
    "    print(f\"Data size: {data_size} bytes\")\n",
    "    \n",
    "    # Calculate number of elements from data size\n",
    "    calculated_num_elements = data_size // (3 * np.dtype(np.float32).itemsize)\n",
    "    print(f\"Calculated num_elements: {calculated_num_elements}\")\n",
    "    \n",
    "    if calculated_num_elements != num_elements:\n",
    "        print(f\"Warning: Calculated number of elements does not match header value.\")\n",
    "    \n",
    "    # Process data\n",
    "    coordinates = np.frombuffer(data, dtype=np.float32).reshape((calculated_num_elements, 3))\n",
    "    \n",
    "    return calculated_num_elements, coordinates\n",
    "\n",
    "def write_ncdf_file(filename, num_elements, coordinates):\n",
    "    with Dataset(filename, 'w', format='NETCDF4') as ncfile:\n",
    "        ncfile.createDimension('num_elements', num_elements)\n",
    "        ncfile.createDimension('num_coords', coordinates.shape[1])\n",
    "\n",
    "        coords_var = ncfile.createVariable('coordinates', 'f4', ('num_elements', 'num_coords'))\n",
    "        coords_var[:] = coordinates\n",
    "\n",
    "        ncfile.description = 'Converted data from .gen to .ncdf'\n",
    "        # Add additional variables and attributes as needed\n",
    "\n",
    "        print(f\"NetCDF file '{filename}' created successfully.\")\n",
    "\n",
    "# Example usage\n",
    "num_elements, coordinates = read_gen_file_binary('pillbox-rtop.gen')\n",
    "if num_elements is not None and coordinates is not None:\n",
    "    write_ncdf_file('pillbox-rtop.ncdf', num_elements, coordinates)"
   ],
   "outputs": [
    {
     "name": "stdout",
     "output_type": "stream",
     "text": [
      "Data size: 731652 bytes\n",
      "Calculated num_elements: 60971\n",
      "Warning: Calculated number of elements does not match header value.\n",
      "NetCDF file 'pillbox-rtop.ncdf' created successfully.\n"
     ]
    }
   ],
   "execution_count": 9
  },
  {
   "metadata": {},
   "cell_type": "code",
   "outputs": [],
   "execution_count": null,
   "source": "",
   "id": "5abc8fab98d723a8"
  }
 ],
 "metadata": {
  "kernelspec": {
   "display_name": "Python 3",
   "language": "python",
   "name": "python3"
  },
  "language_info": {
   "codemirror_mode": {
    "name": "ipython",
    "version": 2
   },
   "file_extension": ".py",
   "mimetype": "text/x-python",
   "name": "python",
   "nbconvert_exporter": "python",
   "pygments_lexer": "ipython2",
   "version": "2.7.6"
  }
 },
 "nbformat": 4,
 "nbformat_minor": 5
}
