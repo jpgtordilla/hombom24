{
 "cells": [
  {
   "metadata": {},
   "cell_type": "code",
   "outputs": [],
   "execution_count": null,
   "source": [
    "import sys\n",
    "# import meme\n",
    "sys.path.append(\"/Users/jonathontordilla/Desktop/hombom24/archive-analysis/meme-plots/meme\")\n",
    "import meme.archive # type: ignore\n",
    "# import lcls-tools\n",
    "sys.path.append('/Users/jonathontordilla/Desktop/hombom24/archive-analysis/lcls-tools-plots/lcls_tools') # path to tools \n",
    "import common.data_analysis.archiver as arch # type: ignore\n",
    "from datetime import datetime"
   ]
  },
  {
   "metadata": {},
   "cell_type": "code",
   "outputs": [],
   "execution_count": null,
   "source": [
    "# comparing MEME to lcls-tools -> returning a list of values\n",
    "\n",
    "# both use datetime objects \n",
    "start_date = \"2024/07/02 14:42:36\"\n",
    "end_date = \"2024/07/02 15:42:36\" \n",
    "format_string = \"%Y/%m/%d %H:%M:%S\"\n",
    "start_date_obj = datetime.strptime(start_date, format_string)\n",
    "end_date_obj = datetime.strptime(end_date, format_string)\n",
    "\n",
    "# lcls-tools\n",
    "lcls_data = arch.get_values_over_time_range([\"TORO:GUNB:360:CHRG\"], start_date_obj, end_date_obj)\n",
    "lcls_timestamps = lcls_data.timestamps\n",
    "lcls_values = lcls_data.values\n",
    "\n",
    "# MEME\n",
    "meme_data = meme.archive.get([\"TORO:GUNB:360:CHRG\"], from_time=start_date_obj, to_time=end_date_obj)\n",
    "\n",
    "# TODO: \n",
    "# - once server is back, compare the format of MEME with lcls-tools, as well as the values and timestamps"
   ]
  }
 ],
 "metadata": {
  "kernelspec": {
   "display_name": "test-jonathon-lcls",
   "language": "python",
   "name": "python3"
  },
  "language_info": {
   "codemirror_mode": {
    "name": "ipython",
    "version": 3
   },
   "file_extension": ".py",
   "mimetype": "text/x-python",
   "name": "python",
   "nbconvert_exporter": "python",
   "pygments_lexer": "ipython3",
   "version": "3.12.4"
  }
 },
 "nbformat": 4,
 "nbformat_minor": 2
}
