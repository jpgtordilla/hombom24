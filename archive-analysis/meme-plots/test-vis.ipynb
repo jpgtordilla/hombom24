{
 "cells": [
  {
   "cell_type": "markdown",
   "metadata": {},
   "source": [
    "### Part 1: Test Plotting Raw Data From MEME\n",
    "\n",
    "Step 1: Start by looking at the data for a small timeframe using the PV \"SOLN:GUNB:100\"\n",
    "\n",
    "Step 2: Clean the data if necessary, save in a function\n",
    "\n",
    "Step 3: Visualize with matplotlib, save in a function\n",
    "\n",
    "Step 4: Develop a filtering function that only analyzes the peaks and returns timestamps for the max and the width of the peak"
   ]
  },
  {
   "cell_type": "code",
   "execution_count": 6,
   "metadata": {},
   "outputs": [
    {
     "ename": "ModuleNotFoundError",
     "evalue": "No module named 'p4p'",
     "output_type": "error",
     "traceback": [
      "\u001b[0;31m---------------------------------------------------------------------------\u001b[0m",
      "\u001b[0;31mModuleNotFoundError\u001b[0m                       Traceback (most recent call last)",
      "Cell \u001b[0;32mIn[6], line 1\u001b[0m\n\u001b[0;32m----> 1\u001b[0m \u001b[38;5;28;01mimport\u001b[39;00m \u001b[38;5;21;01mmeme\u001b[39;00m\u001b[38;5;21;01m.\u001b[39;00m\u001b[38;5;21;01mmeme\u001b[39;00m\u001b[38;5;21;01m.\u001b[39;00m\u001b[38;5;21;01marchive\u001b[39;00m\n\u001b[1;32m      2\u001b[0m archive\u001b[38;5;241m.\u001b[39mget([\u001b[38;5;124m\"\u001b[39m\u001b[38;5;124mMC00:ASTS:OUTSIDET\u001b[39m\u001b[38;5;124m\"\u001b[39m, \u001b[38;5;124m\"\u001b[39m\u001b[38;5;124mPWR:MCC0:1:SITE\u001b[39m\u001b[38;5;124m\"\u001b[39m], from_time\u001b[38;5;241m=\u001b[39m\u001b[38;5;124m\"\u001b[39m\u001b[38;5;124m1 day ago\u001b[39m\u001b[38;5;124m\"\u001b[39m, to_time\u001b[38;5;241m=\u001b[39m\u001b[38;5;124m\"\u001b[39m\u001b[38;5;124mnow\u001b[39m\u001b[38;5;124m\"\u001b[39m)\n",
      "File \u001b[0;32m~/Desktop/hombom24/archive-analysis/meme-plots/meme/meme/__init__.py:3\u001b[0m\n\u001b[1;32m      1\u001b[0m \u001b[38;5;66;03m# Patch p4p close with Python 2.7\u001b[39;00m\n\u001b[1;32m      2\u001b[0m \u001b[38;5;66;03m# For more details see: https://github.com/mdavidsaver/p4p/issues/55\u001b[39;00m\n\u001b[0;32m----> 3\u001b[0m \u001b[38;5;28;01mfrom\u001b[39;00m \u001b[38;5;21;01mp4p\u001b[39;00m\u001b[38;5;21;01m.\u001b[39;00m\u001b[38;5;21;01mclient\u001b[39;00m \u001b[38;5;28;01mimport\u001b[39;00m thread\n\u001b[1;32m      5\u001b[0m _p4p_thread_context_close \u001b[38;5;241m=\u001b[39m thread\u001b[38;5;241m.\u001b[39mContext\u001b[38;5;241m.\u001b[39mclose\n\u001b[1;32m      7\u001b[0m \u001b[38;5;28;01mdef\u001b[39;00m \u001b[38;5;21mclose\u001b[39m(\u001b[38;5;241m*\u001b[39margs, \u001b[38;5;241m*\u001b[39m\u001b[38;5;241m*\u001b[39mkwargs):\n",
      "\u001b[0;31mModuleNotFoundError\u001b[0m: No module named 'p4p'"
     ]
    }
   ],
   "source": [
    "import meme.meme.archive\n",
    "archive.get([\"MC00:ASTS:OUTSIDET\", \"PWR:MCC0:1:SITE\"], from_time=\"1 day ago\", to_time=\"now\")"
   ]
  },
  {
   "cell_type": "code",
   "execution_count": null,
   "metadata": {},
   "outputs": [],
   "source": []
  }
 ],
 "metadata": {
  "kernelspec": {
   "display_name": "Python 3",
   "language": "python",
   "name": "python3"
  },
  "language_info": {
   "codemirror_mode": {
    "name": "ipython",
    "version": 3
   },
   "file_extension": ".py",
   "mimetype": "text/x-python",
   "name": "python",
   "nbconvert_exporter": "python",
   "pygments_lexer": "ipython3",
   "version": "3.11.0"
  }
 },
 "nbformat": 4,
 "nbformat_minor": 2
}
