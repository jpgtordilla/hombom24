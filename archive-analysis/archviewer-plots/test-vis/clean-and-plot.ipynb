{
 "cells": [
  {
   "cell_type": "code",
   "execution_count": 7,
   "metadata": {},
   "outputs": [],
   "source": [
    "import numpy as np\n",
    "import pandas as pd\n",
    "from collections import Counter\n",
    "import matplotlib.pyplot as plt\n",
    "import matplotlib as matplotlib\n",
    "import matplotlib.ticker as ticker"
   ]
  },
  {
   "cell_type": "markdown",
   "metadata": {},
   "source": [
    "Data Cleaning"
   ]
  },
  {
   "cell_type": "code",
   "execution_count": 8,
   "metadata": {},
   "outputs": [],
   "source": [
    "\"\"\"Returns a df that can be used in the following functions for cleaning\"\"\"\n",
    "def csv_to_df(file_path): \n",
    "    return pd.read_csv(file_path)\n",
    "\n",
    "\"\"\"Returns the ratio of normal elements to total cells\"\"\"\n",
    "def get_non_na_ratio(df_name, col_name): \n",
    "    tot_len = len(df_name[col_name])\n",
    "    na_len = tot_len - len(df_name[col_name].dropna())\n",
    "    return (tot_len - na_len) / tot_len\n",
    "\n",
    "\"\"\"Returns a df with irrelevant rows removed\"\"\"\n",
    "def remove_irrelevant_dates(df_name): \n",
    "    test_timestamp_list = df_name[\"Timestamp\"].tolist()\n",
    "    date_only_list = [x[0:10] for x in test_timestamp_list] # list with only dates\n",
    "\n",
    "    date_counts_dict = Counter(date_only_list)\n",
    "    common_date = date_counts_dict.most_common(1)[0][0] # get the most common date\n",
    "\n",
    "    # only get rows that have the common date \n",
    "\n",
    "    common_date_only_list = [x if x == common_date else None for x in date_only_list]\n",
    "    none_length = len([x for x in common_date_only_list if x == None])\n",
    "    filtered_df = df_name.iloc[none_length:, 0:]\n",
    "    return filtered_df\n",
    "\n",
    "\"\"\"Returns a df with a single column without NA values\"\"\"\n",
    "def remove_nan_from_col(df_name, col_name): \n",
    "    new_df = df_name[pd.notna(df_name[col_name])]\n",
    "    return new_df[[\"Timestamp\", col_name]]\n",
    "\n",
    "\"\"\"Returns a df without the date and hour in the Timestamp\"\"\"\n",
    "def remove_date(df_name): \n",
    "    timestamps = df_name[\"Timestamp\"]\n",
    "    result_timestamps = [x[14:] for x in timestamps]\n",
    "    result_df = df_name.copy()\n",
    "    result_df[\"Timestamp\"] = result_timestamps\n",
    "    return result_df"
   ]
  },
  {
   "cell_type": "markdown",
   "metadata": {},
   "source": [
    "Plotting"
   ]
  },
  {
   "cell_type": "code",
   "execution_count": 9,
   "metadata": {},
   "outputs": [],
   "source": [
    "\"\"\"Grid plotter helper function for megaplots\"\"\"\n",
    "def plot_mega(ax, df_name, y_axis_title, i, j, col_ind): \n",
    "    df_rows = remove_irrelevant_dates(df_name) # remove irrelevant rows\n",
    "\n",
    "    if col_ind >= len(df_rows.columns): # ends execution of for loop if no more columns to render\n",
    "        return\n",
    "    \n",
    "    df_cols = remove_nan_from_col(df_rows, df_rows.columns[col_ind]) # remove unwanted columns\n",
    "    df_plot = remove_date(df_cols) # modify timestamp text to only include the hour, min, and sec\n",
    "\n",
    "    ax[i, j].scatter(df_plot[\"Timestamp\"], df_plot[df_rows.columns[col_ind]], s=10)\n",
    "    ax[i, j].xaxis.set_major_locator(ticker.LinearLocator(3))\n",
    "    ax[i, j].xaxis.set_minor_locator(ticker.LinearLocator(0))\n",
    "    ax[i, j].tick_params(axis='y', which='major', labelsize=8)\n",
    "    ax[i, j].tick_params(axis='x', which='major', labelsize=8)\n",
    "    ax[i, j].ticklabel_format(axis='y', style='sci', scilimits=(0, 0))\n",
    "    # x label is always in seconds, but y label must be specified by the user as it is not given in the csv file\n",
    "    ax[i, j].set_xlabel(\"Time (min:sec)\")\n",
    "    ax[i, j].set_ylabel(y_axis_title)\n",
    "    ax[i, j].set_title(f\"{y_axis_title} vs. Time for {df_rows.columns[col_ind]}\", {'fontsize': 7})\n",
    "\n",
    "\"\"\"Plot of a specific column in a df\"\"\"\n",
    "def specific_col_plot(df_name, col_name, y_axis_title): \n",
    "    fig, ax = plt.subplots(figsize=(12, 4))\n",
    "    print(f\"Normal element to total ratio: {get_non_na_ratio(df_name, col_name)}\") # get normal/total ratio\n",
    "    df_rows = remove_irrelevant_dates(df_name) # remove irrelevant rows\n",
    "    df_cols = remove_nan_from_col(df_rows, col_name) # remove unwanted columns\n",
    "    df_plot = remove_date(df_cols) # modify timestamp text to only include the hour, min, and sec\n",
    "\n",
    "    ax.scatter(df_plot[\"Timestamp\"], df_plot[col_name])\n",
    "\n",
    "    # x label is always in seconds, but y label must be specified by the user as it is not given in the csv file\n",
    "    ax.set_xlabel(\"Time (min:sec)\")\n",
    "    ax.set_ylabel(y_axis_title)\n",
    "    ax.set_title(f\"{y_axis_title} vs. Time for {col_name}\")\n",
    "\n",
    "    ax.xaxis.set_major_locator(ticker.AutoLocator())\n",
    "    ax.xaxis.set_minor_locator(ticker.AutoMinorLocator())\n",
    "\n",
    "\"\"\"Megaplot of all the columns from the df\"\"\"\n",
    "def megaplot_all_cols(df_name, y_axis_title): \n",
    "    # want to create a grid of subplots\n",
    "    col_len = len(df_name.columns) - 1\n",
    "    dim = int(np.sqrt(col_len))\n",
    "    # the following two lines are subject to change with increasing dimension\n",
    "    fig, ax = plt.subplots(dim + 1, dim, figsize=(17, 15))\n",
    "    plt.subplots_adjust(wspace=0.4, hspace=1)\n",
    "    col_ind = 1 # track index of the columns in the df that will be cleaned in the for loop\n",
    "    for i in range(0, dim + 1): \n",
    "        for j in range(0, dim):\n",
    "            plot_mega(ax, df_name, y_axis_title, i, j, col_ind)\n",
    "            col_ind += 1 # keep track of which column is being plotted"
   ]
  },
  {
   "cell_type": "markdown",
   "metadata": {},
   "source": [
    "Finding Correlations"
   ]
  },
  {
   "cell_type": "code",
   "execution_count": 10,
   "metadata": {},
   "outputs": [],
   "source": [
    "\"\"\"Plot of a specific correlation between two specific dataframes and their specified columns\"\"\"\n",
    "def spec_correl(df_x, df_y, df_col_x, df_col_y): \n",
    "    # clean both dfs\n",
    "    df_plot_x = clean_df(df_x, df_col_x)\n",
    "    df_plot_y = clean_df(df_y, df_col_y)\n",
    "    # plot dfs\n",
    "    fig, ax = plt.subplots(figsize=(12, 4))\n",
    "    print(f\"Normal element to total ratio x: {get_non_na_ratio(df_x, df_col_x)}\") # get normal/total ratio\n",
    "    print(f\"Normal element to total ratio y: {get_non_na_ratio(df_y, df_col_y)}\") \n",
    "    ax.scatter(df_plot_x[df_col_x], df_plot_y[df_col_y])\n",
    "    # x label is always in seconds, but y label must be specified by the user as it is not given in the csv file\n",
    "    ax.set_xlabel(df_col_x)\n",
    "    ax.set_ylabel(df_col_y)\n",
    "    ax.set_title(f\"{df_col_y} vs. {df_col_x}\")\n",
    "    ax.xaxis.set_major_locator(ticker.AutoLocator())\n",
    "    ax.xaxis.set_minor_locator(ticker.AutoMinorLocator())\n",
    "\n",
    "\"\"\"Helper function to clean df for correlation function\"\"\"\n",
    "def clean_df(df, col): \n",
    "    df_rows = remove_irrelevant_dates(df) # remove irrelevant rows \n",
    "    df_cols = remove_nan_from_col(df_rows, col) # df with only the one specified col df_col_x\n",
    "    return remove_date(df_cols) # modify timestamp text to only include the hour, min, and sec\n",
    "    "
   ]
  }
 ],
 "metadata": {
  "kernelspec": {
   "display_name": "test-jonathon-lcls",
   "language": "python",
   "name": "python3"
  },
  "language_info": {
   "codemirror_mode": {
    "name": "ipython",
    "version": 3
   },
   "file_extension": ".py",
   "mimetype": "text/x-python",
   "name": "python",
   "nbconvert_exporter": "python",
   "pygments_lexer": "ipython3",
   "version": "3.12.2"
  }
 },
 "nbformat": 4,
 "nbformat_minor": 2
}
