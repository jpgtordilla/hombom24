{
 "cells": [
  {
   "cell_type": "code",
   "execution_count": 3,
   "metadata": {},
   "outputs": [],
   "source": [
    "import numpy as np\n",
    "import pandas as pd\n",
    "from collections import Counter\n",
    "import matplotlib.pyplot as plt\n",
    "import matplotlib as matplotlib\n",
    "import matplotlib.ticker as ticker\n"
   ]
  },
  {
   "cell_type": "markdown",
   "metadata": {},
   "source": [
    "Data Cleaning"
   ]
  },
  {
   "cell_type": "code",
   "execution_count": 5,
   "metadata": {},
   "outputs": [],
   "source": [
    "\"\"\"Returns the ratio of normal elements to total cells\"\"\"\n",
    "def get_non_na_ratio(df_name, col_name): \n",
    "    tot_len = len(df_name[col_name])\n",
    "    na_len = tot_len - len(df_name[col_name].dropna())\n",
    "    return (tot_len - na_len) / tot_len\n",
    "\n",
    "\"\"\"Returns a df with irrelevant rows removed\"\"\"\n",
    "def remove_irrelevant_dates(df_name): \n",
    "    test_timestamp_list = df_name[\"Timestamp\"].tolist()\n",
    "    date_only_list = [x[0:10] for x in test_timestamp_list] # list with only dates\n",
    "\n",
    "    date_counts_dict = Counter(date_only_list)\n",
    "    common_date = date_counts_dict.most_common(1)[0][0] # get the most common date\n",
    "\n",
    "    # only get rows that have the common date \n",
    "\n",
    "    common_date_only_list = [x if x == common_date else None for x in date_only_list]\n",
    "    none_length = len([x for x in common_date_only_list if x == None])\n",
    "    filtered_df = df_name.iloc[none_length:, 0:]\n",
    "    return filtered_df\n",
    "\n",
    "\"\"\"Returns a df with a single column without NA values\"\"\"\n",
    "def remove_nan_from_col(df_name, col_name): \n",
    "    new_df = df_name[pd.notna(df_name[col_name])]\n",
    "    return new_df[[\"Timestamp\", col_name]]\n",
    "\n",
    "\"\"\"Returns a df without the date and hour in the Timestamp\"\"\"\n",
    "def remove_date(df_name): \n",
    "    timestamps = df_name[\"Timestamp\"]\n",
    "    result_timestamps = [x[14:] for x in timestamps]\n",
    "    result_df = df_name.copy()\n",
    "    result_df[\"Timestamp\"] = result_timestamps\n",
    "    return result_df"
   ]
  },
  {
   "cell_type": "markdown",
   "metadata": {},
   "source": [
    "Plotting"
   ]
  },
  {
   "cell_type": "code",
   "execution_count": null,
   "metadata": {},
   "outputs": [],
   "source": []
  }
 ],
 "metadata": {
  "kernelspec": {
   "display_name": "test-jonathon-lcls",
   "language": "python",
   "name": "python3"
  },
  "language_info": {
   "codemirror_mode": {
    "name": "ipython",
    "version": 3
   },
   "file_extension": ".py",
   "mimetype": "text/x-python",
   "name": "python",
   "nbconvert_exporter": "python",
   "pygments_lexer": "ipython3",
   "version": "3.12.2"
  }
 },
 "nbformat": 4,
 "nbformat_minor": 2
}
