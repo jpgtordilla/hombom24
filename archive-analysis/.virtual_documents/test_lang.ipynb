def empty_parameters(x, y=0): 
    print(x)
    print(y)


empty_parameters(1, 5)


test_dict = {"one": 1, "two": 2}

big_dict = {}
big_dict['dict_1'] = test_dict
big_dict


import pandas as pd

d = {'col1': [0, 1, 2, 3], 'col2': pd.Series([2, 3], index=[2, 3])}
df = pd.DataFrame(data=d, index=[x for x in range(len("col1"))])


df["col1"].tolist()


import numpy as np
import matplotlib.pyplot as plt
from scipy.datasets import electrocardiogram
from scipy.signal import find_peaks

x = electrocardiogram()[2000:4000]
peak_indices, peak_heights = find_peaks(x, height=0, distance=100)


peak_indices_2, peak_heights_2 = find_peaks(-x, height=0, distance=100)
all_peak_indices = np.concatenate((peak_indices, peak_indices_2), axis=None)
all_peak_heights = np.concatenate((peak_heights["peak_heights"], peak_heights_2["peak_heights"]), axis=None)

plt.plot(x)
plt.plot(all_peak_indices, x[all_peak_indices], "x")
plt.plot(np.zeros_like(x), "--", color="gray")
plt.show()


peak_heights["peak_heights"]


myVar = None
if 1 < 2: 
    myVar = "boots"
else: 
    myVar = "none"

print(myVar)



