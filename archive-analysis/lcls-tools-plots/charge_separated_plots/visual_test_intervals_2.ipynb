{
 "cells": [
  {
   "cell_type": "code",
   "id": "initial_id",
   "metadata": {
    "collapsed": true,
    "ExecuteTime": {
     "end_time": "2024-07-26T23:37:24.491993Z",
     "start_time": "2024-07-26T23:37:24.390805Z"
    }
   },
   "source": [
    "import numpy as np\n",
    "from datetime import datetime\n",
    "from datetime import timedelta\n",
    "import random\n",
    "import sys\n",
    "sys.path.append('/Users/jonathontordilla/Desktop/hombom24/archive-analysis/lcls-tools-plots/lcls_tools') # path to tools \n",
    "import common.data_analysis.archiver as arch # type: ignore"
   ],
   "outputs": [],
   "execution_count": 1
  },
  {
   "metadata": {
    "ExecuteTime": {
     "end_time": "2024-07-26T23:37:24.494633Z",
     "start_time": "2024-07-26T23:37:24.492979Z"
    }
   },
   "cell_type": "code",
   "source": [
    "def get_days_between_datetime(start: str, end: str) -> int:\n",
    "    # determine the amount of days between the start and end datetime\n",
    "    format_string = \"%Y/%m/%d %H:%M:%S\"\n",
    "    start_obj = datetime.strptime(start, format_string)\n",
    "    end_obj = datetime.strptime(end, format_string)\n",
    "    num_days = (end_obj - start_obj).days\n",
    "    return num_days"
   ],
   "id": "ab29b554799a678f",
   "outputs": [],
   "execution_count": 2
  },
  {
   "metadata": {
    "ExecuteTime": {
     "end_time": "2024-07-26T23:37:24.497392Z",
     "start_time": "2024-07-26T23:37:24.495212Z"
    }
   },
   "cell_type": "code",
   "source": [
    "def request_data_interval(pv_str: str, day: str, sample_size: int) -> float:\n",
    "    \"\"\"Get the amount of seconds between data points for a given PV on a given day.\n",
    "\n",
    "    Makes a request for a PV and gets the average interval (in seconds) between data points for a given sample size.\n",
    "    \"\"\"\n",
    "\n",
    "    # set the range of data and make a request\n",
    "    start_str = f\"{day} 00:00:00\"\n",
    "    end_str = f\"{day} 23:59:59\"\n",
    "    start_time = datetime.strptime(start_str, \"%Y/%m/%d %H:%M:%S\")\n",
    "    end_time = datetime.strptime(end_str, \"%Y/%m/%d %H:%M:%S\")\n",
    "    arch_data = arch.get_values_over_time_range([pv_str], start_time, end_time)\n",
    "\n",
    "    # get the list of timestamps and get the average interval based on the sample size\n",
    "    intervals = []\n",
    "    timestamps = arch_data[pv_str].timestamps\n",
    "    if len(timestamps) == 0: \n",
    "        return 0.0\n",
    "    for i in range(sample_size):\n",
    "        random_first_index = random.randint(0, len(timestamps) - 2)\n",
    "        second_index = random_first_index + 1\n",
    "        interval = (timestamps[second_index] - timestamps[random_first_index]).total_seconds()\n",
    "        intervals.append(interval)\n",
    "\n",
    "    return float(np.mean(intervals))"
   ],
   "id": "b3b40bfae8323c41",
   "outputs": [],
   "execution_count": 3
  },
  {
   "metadata": {
    "ExecuteTime": {
     "end_time": "2024-07-26T23:37:24.500189Z",
     "start_time": "2024-07-26T23:37:24.497916Z"
    }
   },
   "cell_type": "code",
   "source": [
    "def get_data_interval_dict(pv_str: str, start_time: str, end_time: str, period_in_days: int) \\\n",
    "        -> dict[float: list[datetime]]:\n",
    "    \"\"\"Gets the time interval between data points in a dataset. Finds the time interval between the first two data\n",
    "    points for each period_in_days and returns a list of intervals (in seconds).\n",
    "\n",
    "    Dictionary takes the form of: {interval: [start, end]}\n",
    "    \"\"\"\n",
    "\n",
    "    # determine the amount of days between the start and end datetime\n",
    "    num_days = get_days_between_datetime(start_time, end_time)\n",
    "\n",
    "    interval_dict = {}\n",
    "    # every period_in_days days, get the time interval between the first two data points\n",
    "    day_index = 0\n",
    "    while day_index < num_days:\n",
    "        # get the datetime object for the current day\n",
    "        format_string = \"%Y/%m/%d %H:%M:%S\"\n",
    "        current_time_obj = datetime.strptime(start_time, format_string) + timedelta(days=day_index)\n",
    "        current_time_string = current_time_obj.strftime(format_string)\n",
    "        # if there are less than 30 days left, get the interval between the next two data points\n",
    "        if day_index + period_in_days >= num_days:\n",
    "            # get interval\n",
    "            data_interval = request_data_interval(pv_str, current_time_obj.strftime(\"%Y/%m/%d\"), 100)\n",
    "            interval_dict[data_interval] = [current_time_obj, current_time_obj + timedelta(days=(num_days - day_index))]\n",
    "            break\n",
    "        # for each period, get the interval between the first two data points in that period\n",
    "        if day_index % period_in_days == 0 or day_index == 1:\n",
    "            # get interval\n",
    "            data_interval = request_data_interval(pv_str, current_time_obj.strftime(\"%Y/%m/%d\"), 100)\n",
    "            interval_dict[data_interval] = [current_time_obj, current_time_obj + timedelta(days=period_in_days)]\n",
    "            day_index += period_in_days\n",
    "\n",
    "    return interval_dict"
   ],
   "id": "ab228ea04f73c07a",
   "outputs": [],
   "execution_count": 4
  },
  {
   "metadata": {
    "ExecuteTime": {
     "end_time": "2024-07-26T23:37:24.650369Z",
     "start_time": "2024-07-26T23:37:24.501234Z"
    }
   },
   "cell_type": "code",
   "source": [
    "my_dict = get_data_interval_dict(\"BPMS:L0B:0183:FW:X_SLOW\", \"2024/05/02 00:00:00\", \"2024/06/10 00:00:00\", 20)\n",
    "my_dict"
   ],
   "id": "281af0c1f737e8da",
   "outputs": [
    {
     "ename": "ValueError",
     "evalue": "empty range in randrange(0, 0)",
     "output_type": "error",
     "traceback": [
      "\u001B[0;31m---------------------------------------------------------------------------\u001B[0m",
      "\u001B[0;31mValueError\u001B[0m                                Traceback (most recent call last)",
      "Cell \u001B[0;32mIn[5], line 1\u001B[0m\n\u001B[0;32m----> 1\u001B[0m my_dict \u001B[38;5;241m=\u001B[39m \u001B[43mget_data_interval_dict\u001B[49m\u001B[43m(\u001B[49m\u001B[38;5;124;43m\"\u001B[39;49m\u001B[38;5;124;43mBPMS:L0B:0183:FW:X_SLOW\u001B[39;49m\u001B[38;5;124;43m\"\u001B[39;49m\u001B[43m,\u001B[49m\u001B[43m \u001B[49m\u001B[38;5;124;43m\"\u001B[39;49m\u001B[38;5;124;43m2024/05/02 00:00:00\u001B[39;49m\u001B[38;5;124;43m\"\u001B[39;49m\u001B[43m,\u001B[49m\u001B[43m \u001B[49m\u001B[38;5;124;43m\"\u001B[39;49m\u001B[38;5;124;43m2024/06/10 00:00:00\u001B[39;49m\u001B[38;5;124;43m\"\u001B[39;49m\u001B[43m,\u001B[49m\u001B[43m \u001B[49m\u001B[38;5;241;43m20\u001B[39;49m\u001B[43m)\u001B[49m\n\u001B[1;32m      2\u001B[0m my_dict\n",
      "Cell \u001B[0;32mIn[4], line 29\u001B[0m, in \u001B[0;36mget_data_interval_dict\u001B[0;34m(pv_str, start_time, end_time, period_in_days)\u001B[0m\n\u001B[1;32m     26\u001B[0m \u001B[38;5;66;03m# for each period, get the interval between the first two data points in that period\u001B[39;00m\n\u001B[1;32m     27\u001B[0m \u001B[38;5;28;01mif\u001B[39;00m day_index \u001B[38;5;241m%\u001B[39m period_in_days \u001B[38;5;241m==\u001B[39m \u001B[38;5;241m0\u001B[39m \u001B[38;5;129;01mor\u001B[39;00m day_index \u001B[38;5;241m==\u001B[39m \u001B[38;5;241m1\u001B[39m:\n\u001B[1;32m     28\u001B[0m     \u001B[38;5;66;03m# get interval\u001B[39;00m\n\u001B[0;32m---> 29\u001B[0m     data_interval \u001B[38;5;241m=\u001B[39m \u001B[43mrequest_data_interval\u001B[49m\u001B[43m(\u001B[49m\u001B[43mpv_str\u001B[49m\u001B[43m,\u001B[49m\u001B[43m \u001B[49m\u001B[43mcurrent_time_obj\u001B[49m\u001B[38;5;241;43m.\u001B[39;49m\u001B[43mstrftime\u001B[49m\u001B[43m(\u001B[49m\u001B[38;5;124;43m\"\u001B[39;49m\u001B[38;5;124;43m%\u001B[39;49m\u001B[38;5;124;43mY/\u001B[39;49m\u001B[38;5;124;43m%\u001B[39;49m\u001B[38;5;124;43mm/\u001B[39;49m\u001B[38;5;132;43;01m%d\u001B[39;49;00m\u001B[38;5;124;43m\"\u001B[39;49m\u001B[43m)\u001B[49m\u001B[43m,\u001B[49m\u001B[43m \u001B[49m\u001B[38;5;241;43m100\u001B[39;49m\u001B[43m)\u001B[49m\n\u001B[1;32m     30\u001B[0m     interval_dict[data_interval] \u001B[38;5;241m=\u001B[39m [current_time_obj, current_time_obj \u001B[38;5;241m+\u001B[39m timedelta(days\u001B[38;5;241m=\u001B[39mperiod_in_days)]\n\u001B[1;32m     31\u001B[0m     day_index \u001B[38;5;241m+\u001B[39m\u001B[38;5;241m=\u001B[39m period_in_days\n",
      "Cell \u001B[0;32mIn[3], line 20\u001B[0m, in \u001B[0;36mrequest_data_interval\u001B[0;34m(pv_str, day, sample_size)\u001B[0m\n\u001B[1;32m     18\u001B[0m     \u001B[38;5;28;01mreturn\u001B[39;00m \u001B[38;5;241m0.0\u001B[39m\n\u001B[1;32m     19\u001B[0m \u001B[38;5;28;01mfor\u001B[39;00m i \u001B[38;5;129;01min\u001B[39;00m \u001B[38;5;28mrange\u001B[39m(sample_size):\n\u001B[0;32m---> 20\u001B[0m     random_first_index \u001B[38;5;241m=\u001B[39m \u001B[43mrandom\u001B[49m\u001B[38;5;241;43m.\u001B[39;49m\u001B[43mrandint\u001B[49m\u001B[43m(\u001B[49m\u001B[38;5;241;43m0\u001B[39;49m\u001B[43m,\u001B[49m\u001B[43m \u001B[49m\u001B[38;5;28;43mlen\u001B[39;49m\u001B[43m(\u001B[49m\u001B[43mtimestamps\u001B[49m\u001B[43m)\u001B[49m\u001B[43m \u001B[49m\u001B[38;5;241;43m-\u001B[39;49m\u001B[43m \u001B[49m\u001B[38;5;241;43m2\u001B[39;49m\u001B[43m)\u001B[49m\n\u001B[1;32m     21\u001B[0m     second_index \u001B[38;5;241m=\u001B[39m random_first_index \u001B[38;5;241m+\u001B[39m \u001B[38;5;241m1\u001B[39m\n\u001B[1;32m     22\u001B[0m     interval \u001B[38;5;241m=\u001B[39m (timestamps[second_index] \u001B[38;5;241m-\u001B[39m timestamps[random_first_index])\u001B[38;5;241m.\u001B[39mtotal_seconds()\n",
      "File \u001B[0;32m/opt/anaconda3/envs/jonathon-lcls/lib/python3.12/random.py:336\u001B[0m, in \u001B[0;36mRandom.randint\u001B[0;34m(self, a, b)\u001B[0m\n\u001B[1;32m    332\u001B[0m \u001B[38;5;28;01mdef\u001B[39;00m \u001B[38;5;21mrandint\u001B[39m(\u001B[38;5;28mself\u001B[39m, a, b):\n\u001B[1;32m    333\u001B[0m \u001B[38;5;250m    \u001B[39m\u001B[38;5;124;03m\"\"\"Return random integer in range [a, b], including both end points.\u001B[39;00m\n\u001B[1;32m    334\u001B[0m \u001B[38;5;124;03m    \"\"\"\u001B[39;00m\n\u001B[0;32m--> 336\u001B[0m     \u001B[38;5;28;01mreturn\u001B[39;00m \u001B[38;5;28;43mself\u001B[39;49m\u001B[38;5;241;43m.\u001B[39;49m\u001B[43mrandrange\u001B[49m\u001B[43m(\u001B[49m\u001B[43ma\u001B[49m\u001B[43m,\u001B[49m\u001B[43m \u001B[49m\u001B[43mb\u001B[49m\u001B[38;5;241;43m+\u001B[39;49m\u001B[38;5;241;43m1\u001B[39;49m\u001B[43m)\u001B[49m\n",
      "File \u001B[0;32m/opt/anaconda3/envs/jonathon-lcls/lib/python3.12/random.py:319\u001B[0m, in \u001B[0;36mRandom.randrange\u001B[0;34m(self, start, stop, step)\u001B[0m\n\u001B[1;32m    317\u001B[0m     \u001B[38;5;28;01mif\u001B[39;00m width \u001B[38;5;241m>\u001B[39m \u001B[38;5;241m0\u001B[39m:\n\u001B[1;32m    318\u001B[0m         \u001B[38;5;28;01mreturn\u001B[39;00m istart \u001B[38;5;241m+\u001B[39m \u001B[38;5;28mself\u001B[39m\u001B[38;5;241m.\u001B[39m_randbelow(width)\n\u001B[0;32m--> 319\u001B[0m     \u001B[38;5;28;01mraise\u001B[39;00m \u001B[38;5;167;01mValueError\u001B[39;00m(\u001B[38;5;124mf\u001B[39m\u001B[38;5;124m\"\u001B[39m\u001B[38;5;124mempty range in randrange(\u001B[39m\u001B[38;5;132;01m{\u001B[39;00mstart\u001B[38;5;132;01m}\u001B[39;00m\u001B[38;5;124m, \u001B[39m\u001B[38;5;132;01m{\u001B[39;00mstop\u001B[38;5;132;01m}\u001B[39;00m\u001B[38;5;124m)\u001B[39m\u001B[38;5;124m\"\u001B[39m)\n\u001B[1;32m    321\u001B[0m \u001B[38;5;66;03m# Non-unit step argument supplied.\u001B[39;00m\n\u001B[1;32m    322\u001B[0m \u001B[38;5;28;01mif\u001B[39;00m istep \u001B[38;5;241m>\u001B[39m \u001B[38;5;241m0\u001B[39m:\n",
      "\u001B[0;31mValueError\u001B[0m: empty range in randrange(0, 0)"
     ]
    }
   ],
   "execution_count": 5
  },
  {
   "metadata": {},
   "cell_type": "code",
   "source": "",
   "id": "7d0a0a7dd82d1fe2",
   "outputs": [],
   "execution_count": null
  }
 ],
 "metadata": {
  "kernelspec": {
   "display_name": "Python 3",
   "language": "python",
   "name": "python3"
  },
  "language_info": {
   "codemirror_mode": {
    "name": "ipython",
    "version": 2
   },
   "file_extension": ".py",
   "mimetype": "text/x-python",
   "name": "python",
   "nbconvert_exporter": "python",
   "pygments_lexer": "ipython2",
   "version": "2.7.6"
  }
 },
 "nbformat": 4,
 "nbformat_minor": 5
}
