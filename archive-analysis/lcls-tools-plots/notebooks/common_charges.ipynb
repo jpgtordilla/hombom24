{
 "cells": [
  {
   "metadata": {},
   "cell_type": "markdown",
   "source": [
    "### Finding Common Charges\n",
    "\n",
    "The goal of this exercise is to find the most common charges seen when the beam is on. \n",
    "\n",
    "This will involve: \n",
    "1. pulling data from the accelerator during beam time for the PV \"TORO:GUNB:360:CHRG\"\n",
    "2. identify clusters with an algorithm\n",
    "3. plot bar chart of clusters with pC as the y-axis\n",
    "\n",
    "### Cluster finding algorithm ###\n",
    "- sort all charge values\n",
    "- start with first value and calculate the tolerance amount \n",
    "- for each following value, check if it's within the tolerance amount. If it is, add to a cluster list. If not, create a new list, add it to that, and let it be the new comparison. \n",
    "- repeat the previous step with this new comparison point\n",
    "- repeat until all datapoints have been emptied from the dataset"
   ],
   "id": "37f7324aba6bd949"
  },
  {
   "metadata": {
    "ExecuteTime": {
     "end_time": "2024-07-19T18:46:47.777149Z",
     "start_time": "2024-07-19T18:46:47.774998Z"
    }
   },
   "cell_type": "code",
   "source": [
    "# def cluster(vals, tolerance) -> list: \n",
    "#     vals.sort()\n",
    "#     \n",
    "#     clusters = [[]]\n",
    "#     cluster_index = 0\n",
    "#     while len(vals) > 0:\n",
    "#         comparison = vals.pop(0)\n",
    "#         clusters[cluster_index].append(comparison)\n",
    "#         for i in range(len(vals)):\n",
    "#             next_val = vals.pop(0)\n",
    "#             if abs(next_val - comparison) <= (tolerance * comparison):  # if next_val is within percentage of comparison's value\n",
    "#                 clusters[cluster_index].append(next_val)  # add next_val to cluster\n",
    "#             else:\n",
    "#                 cluster_index += 1\n",
    "#                 clusters.append([])  # add a new empty list\n",
    "#                 clusters[cluster_index].append(next_val)  # add next_val to the next cluster\n",
    "#                 break\n",
    "#     \n",
    "#     return clusters"
   ],
   "id": "16f15ecd4507c16a",
   "outputs": [],
   "execution_count": 1
  },
  {
   "metadata": {
    "ExecuteTime": {
     "end_time": "2024-07-19T18:46:47.781486Z",
     "start_time": "2024-07-19T18:46:47.778513Z"
    }
   },
   "cell_type": "code",
   "source": [
    "def cluster(vals, tolerance) -> list:\n",
    "    \"\"\"Groups charge values together within the given tolerance percentage (between 0 and 1)\"\"\"\n",
    "    vals.sort()\n",
    "\n",
    "    clusters = [[]]\n",
    "    cluster_ind = 1\n",
    "\n",
    "    # add values within tolerance percentage of the first value\n",
    "    first_val = vals[0]\n",
    "    max_first = first_val + (tolerance * first_val)\n",
    "    curr_ind = 0\n",
    "    while vals[curr_ind] <= max_first:\n",
    "        clusters[0].append(vals[curr_ind])\n",
    "        curr_ind += 1\n",
    "    \n",
    "    # create a tolerance margin above some middle point and add points to the left and right on a number line\n",
    "    while len(vals) > 0 and not curr_ind >= len(vals) - 1:\n",
    "        curr_val = vals[curr_ind]\n",
    "        comparison = curr_val + (tolerance * curr_val)\n",
    "        clusters.append([])\n",
    "        while abs(comparison - curr_val) <= tolerance * comparison: # check if within tolerance range\n",
    "            clusters[cluster_ind].append(curr_val)\n",
    "            curr_ind += 1\n",
    "            if curr_ind >= len(vals):\n",
    "                break\n",
    "            curr_val = vals[curr_ind]\n",
    "        cluster_ind += 1\n",
    "\n",
    "    return clusters"
   ],
   "id": "e95648539a65c8e",
   "outputs": [],
   "execution_count": 2
  },
  {
   "metadata": {
    "ExecuteTime": {
     "end_time": "2024-07-19T18:46:47.788944Z",
     "start_time": "2024-07-19T18:46:47.783798Z"
    }
   },
   "cell_type": "code",
   "source": [
    "# cluster algorithm demo\n",
    "vals_unsorted = [100.0, 100.5, 100.2, 99.8, 100.4, 100.1, 100.3, \n",
    "                 110.0, 109.5, 109.8, 109.9, 110.2, 109.7, 110.1, \n",
    "                 120.0, 119.5, 119.8, 119.9, 120.2, 119.7, 120.1, \n",
    "                 130.0, 130.5, 130.2, 129.8, 130.4, 130.1, 130.3, \n",
    "                 150.0, 149.5, 149.8, 149.9, 150.2, 149.7, 150.1, \n",
    "                 200.0, 199.5, 199.8, 199.9, 200.2, 199.7, 200.1, \n",
    "                 300.0, 300.5, 300.2, 299.8, 300.4, 300.1, 300.3,\n",
    "                 400.0, 399.5, 399.8, 399.9, 400.2, 399.7, 400.1,\n",
    "                 600.0, 600.5, 600.2, 599.8, 600.4, 600.1, 600.3,\n",
    "                 800.0, 799.5, 799.8, 799.9, 800.2, 799.7, 800.1,\n",
    "                 1000.0, 1000.5, 1000.2, 999.8, 1000.4, 1000.1, 1000.3,\n",
    "                 1600.0, 1599.5, 1599.8, 1599.9, 1600.2, 1599.7, 1600.1,\n",
    "                 2500.0, 2500.5, 2500.2, 2499.8, 2500.4, 2500.1, 2500.3,\n",
    "                 3500.0, 3499.5, 3499.8, 3499.9, 3500.2, 3499.7, 3500.1,\n",
    "                 5000.0, 5000.5, 5000.2, 4999.8, 5000.4, 5000.1, 5000.3,\n",
    "                 8000.0, 7999.5, 7999.8, 7999.9, 8000.2, 7999.7, 8000.1]\n",
    "\n",
    "val_tolerance = 0.05\n",
    "print(len(vals_unsorted))\n",
    "cluster(vals_unsorted, val_tolerance)"
   ],
   "id": "a8f62e65dc937d70",
   "outputs": [
    {
     "name": "stdout",
     "output_type": "stream",
     "text": [
      "112\n"
     ]
    },
    {
     "data": {
      "text/plain": [
       "[[99.8, 100.0, 100.1, 100.2, 100.3, 100.4, 100.5],\n",
       " [109.5,\n",
       "  109.7,\n",
       "  109.8,\n",
       "  109.9,\n",
       "  110.0,\n",
       "  110.1,\n",
       "  110.2,\n",
       "  119.5,\n",
       "  119.7,\n",
       "  119.8,\n",
       "  119.9,\n",
       "  120.0,\n",
       "  120.1,\n",
       "  120.2],\n",
       " [129.8, 130.0, 130.1, 130.2, 130.3, 130.4, 130.5],\n",
       " [149.5, 149.7, 149.8, 149.9, 150.0, 150.1, 150.2],\n",
       " [199.5, 199.7, 199.8, 199.9, 200.0, 200.1, 200.2],\n",
       " [299.8, 300.0, 300.1, 300.2, 300.3, 300.4, 300.5],\n",
       " [399.5, 399.7, 399.8, 399.9, 400.0, 400.1, 400.2],\n",
       " [599.8, 600.0, 600.1, 600.2, 600.3, 600.4, 600.5],\n",
       " [799.5, 799.7, 799.8, 799.9, 800.0, 800.1, 800.2],\n",
       " [999.8, 1000.0, 1000.1, 1000.2, 1000.3, 1000.4, 1000.5],\n",
       " [1599.5, 1599.7, 1599.8, 1599.9, 1600.0, 1600.1, 1600.2],\n",
       " [2499.8, 2500.0, 2500.1, 2500.2, 2500.3, 2500.4, 2500.5],\n",
       " [3499.5, 3499.7, 3499.8, 3499.9, 3500.0, 3500.1, 3500.2],\n",
       " [4999.8, 5000.0, 5000.1, 5000.2, 5000.3, 5000.4, 5000.5],\n",
       " [7999.5, 7999.7, 7999.8, 7999.9, 8000.0, 8000.1, 8000.2]]"
      ]
     },
     "execution_count": 3,
     "metadata": {},
     "output_type": "execute_result"
    }
   ],
   "execution_count": 3
  },
  {
   "metadata": {
    "ExecuteTime": {
     "end_time": "2024-07-19T18:46:47.966086Z",
     "start_time": "2024-07-19T18:46:47.789695Z"
    }
   },
   "cell_type": "code",
   "source": [
    "# pull TORO:GUNB:360:CHRG data from the accelerator and convert to a list of charges\n",
    "\n",
    "# imports\n",
    "import sys\n",
    "sys.path.append('/Users/jonathontordilla/Desktop/hombom24/archive-analysis/lcls-tools-plots/lcls_tools') # path to tools \n",
    "import common.data_analysis.archiver as arch # type: ignore\n",
    "from datetime import datetime\n",
    "# specify timeframe with a datetime object\n",
    "start_date = \"2024/07/02 14:42:36\"\n",
    "end_date = \"2024/07/02 15:42:36\" \n",
    "format_string = \"%Y/%m/%d %H:%M:%S\"\n",
    "start_date_obj = datetime.strptime(start_date, format_string)\n",
    "end_date_obj = datetime.strptime(end_date, format_string)\n",
    "# submit request with a list of PVs\n",
    "data = arch.get_values_over_time_range([\"TORO:GUNB:360:CHRG\"], start_date_obj, end_date_obj)\n",
    "chrg_dict = data[\"TORO:GUNB:360:CHRG\"]\n",
    "chrg_vals = chrg_dict.values # list \n",
    "print(chrg_vals)"
   ],
   "id": "e5aaf63535263c84",
   "outputs": [
    {
     "name": "stdout",
     "output_type": "stream",
     "text": [
      "[0.6768124103546143, 0.6533117890357971, 0.512330949306488, 0.5097566246986389, 0.5277981758117676, 0.4050768315792084, 0.5111626386642456, 0.38964012265205383, 0.4690616726875305, 0.40671783685684204, 0.014045698568224907, 0.4431437849998474, 0.38937631249427795, 0.48151662945747375, 0.5798130631446838, 0.5018803477287292, 0.2573322653770447, 0.29974523186683655, 0.4080764353275299, 0.023350529372692108, 0.034061793237924576, 0.020000746473670006, 0.03506116196513176, 0.023521985858678818, 0.022689834237098694, 0.04380612075328827, 0.03397207707166672, 0.050164856016635895, 0.03249223902821541, 0.008525515906512737, 0.014801925048232079, 0.018107909709215164, 0.02968299202620983, 0.013969103805720806, 0.011262034066021442, 0.02021060883998871, 0.02111533284187317, 0.016757717356085777, 0.013478212989866734, 0.021267838776111603, 0.011468281038105488, 0.03072083368897438, 0.03951516002416611, 0.013428720645606518, 0.01464989222586155, 0.028411803767085075, 0.026864130049943924, 0.023117629811167717, 0.02517508715391159, 0.011874648742377758, 0.019024785608053207, 0.021490780636668205, 0.02146902121603489, 0.020106812939047813, 0.035015519708395004, 0.012315516360104084, 0.01700127311050892, 0.02307392843067646, 0.02246001549065113, 0.02724938839673996, 0.029452288523316383, 0.019734587520360947, 0.054315898567438126, 0.034218646585941315, 0.01446800772100687, 0.04663422703742981, 0.021971698850393295, 0.022794848307967186, 0.02576296031475067, 0.017192503437399864, 0.01889660768210888, 0.03530331701040268, 0.021893654018640518, 0.05122736096382141, 0.01755954883992672, 0.034195639193058014, 0.026515519246459007, 0.013596978038549423, 0.025340640917420387, 0.016555380076169968, 0.01470743864774704, 0.011125271208584309, 0.023617098107933998, 0.01754354126751423, 0.03170143440365791, 0.009420190006494522, 0.014051944017410278, 0.05564665421843529, 0.02550121210515499, 0.03262705355882645, 0.017147529870271683, 0.02435462549328804, 0.008379083126783371, 0.01134533528238535, 0.013928504660725594, 0.017201310023665428, 0.05417679250240326, 0.01271043624728918, 0.014621365815401077, 0.025361476466059685, 0.0248141810297966, 0.027517041191458702, 0.015956630930304527, 0.0331796295940876, 0.02223997935652733, 0.023624230176210403, 0.04435139521956444, 0.01595635712146759, 0.028068482875823975, 0.009571678936481476, 0.013310723938047886, 0.01905023492872715, 0.020684901624917984, 0.020902808755636215, 0.008643841370940208, 0.019808068871498108, 0.018590472638607025, 0.06623087078332901, 0.011878140270709991, 0.04746158793568611, 0.01553377229720354, 0.01887436956167221, 0.03545455262064934, 0.023559844121336937, 0.05609801784157753, 0.013678384944796562, 0.02827337384223938, 0.020273428410291672, 0.01105970237404108, 0.022470997646450996, 0.024769920855760574, 0.01122649759054184, 0.01777416653931141, 0.022943565621972084, 0.025652868673205376, 0.02339313179254532, 0.02825009822845459, 0.015875352546572685, 0.018280761316418648, 0.020351143553853035, 0.022393517196178436, 0.03393636271357536, 0.017297474667429924, 0.025366993620991707, 0.010300139896571636, 0.017522601410746574, 0.06456197053194046, 0.021687202155590057, 0.01775984838604927, 0.014066225849092007, 0.026874009519815445, 0.03149616718292236, 0.012231742031872272, 0.029873240739107132, 0.024044573307037354, 0.015186759643256664, 0.03152674436569214, 0.02335052564740181, 0.04501301050186157, 0.01855316571891308, 0.016173161566257477, 0.022673241794109344, 0.014445231296122074, 0.02217969484627247, 0.019366219639778137, 0.014631181955337524, 0.011998236179351807, 0.031888287514448166, 0.04580704867839813, 0.030668111518025398, 0.05474898964166641, 0.0224185548722744, 0.029180891811847687, 0.012451864778995514, 0.018951894715428352, 0.010240324772894382, 0.013598601333796978, 0.011763587594032288, 0.024355009198188782, 0.010965881869196892, 0.023714840412139893, 0.012508376501500607, 0.009446137584745884, 0.012993290089070797, 0.01756501942873001, 0.009963360615074635, 0.04221980273723602, 0.024597778916358948, 0.01035875454545021, 0.01929907687008381, 0.020813535898923874, 0.02163877710700035, 0.009726743213832378, 0.025875430554151535, 0.050117433071136475, 0.025663910433650017, 0.03016015700995922, 0.015582216903567314, 0.015573970042169094, 0.05583900585770607, 0.011398899368941784, 0.02751445397734642, 0.011816919781267643, 0.02057059109210968, 0.021224984899163246, 0.019835619255900383, 0.010415450669825077, 0.05260486528277397, 0.011409829370677471, 0.01842370070517063, 0.015105962753295898, 0.014999117702245712, 0.013661439530551434, 0.03440376743674278, 0.03229973837733269, 0.009375389665365219, 0.026233989745378494, 0.028894439339637756, 0.026408962905406952, 0.041613269597291946, 0.01980392448604107, 0.007796282414346933, 0.030201325193047523, 0.02749692276120186, 0.016873683780431747, 0.019922995939850807, 0.013894160278141499, 0.038942601531744, 0.013926360756158829, 0.013907115906476974, 0.01697245053946972, 0.018509838730096817, 0.03649136796593666, 0.015215498395264149, 0.032157041132450104, 0.029697777703404427, 0.026019738987088203, 0.015353879891335964, 0.01894766092300415, 0.04089951142668724, 0.02308841049671173, 0.014385887421667576, 0.030556973069906235, 0.02493274211883545, 0.013397353701293468, 0.013137174770236015, 0.020962286740541458, 0.02217584103345871, 0.017497194930911064, 0.023226261138916016, 0.0164291113615036, 0.0208320003002882, 0.034060925245285034, 0.03140482306480408, 0.02624671906232834, 0.020633883774280548, 0.024819470942020416, 0.021552199497818947, 0.03460272401571274, 0.02556205727159977, 0.01964941993355751, 0.009232685901224613, 0.030534040182828903, 0.016502084210515022, 0.046017274260520935, 0.012630271725356579, 0.011180619709193707, 0.024170469492673874, 0.03897636756300926, 0.016612499952316284, 0.02043754793703556, 0.017391741275787354, 0.014520781114697456, 0.014803702011704445, 0.013575038872659206, 0.01305442489683628, 0.021306725218892097, 0.015947574749588966, 0.01065809652209282, 0.02352622151374817, 0.026520688086748123, 0.020946845412254333, 0.00937678199261427, 0.03829480707645416, 0.01667269505560398, 0.027408048510551453, 0.02189262956380844, 0.023534951731562614, 0.027867073193192482, 0.014299548231065273, 0.028992775827646255, 0.013373497873544693, 0.042481429874897, 0.013451124541461468, 0.015941521152853966, 0.023297490552067757, 0.051164817065000534, 0.01061808317899704, 0.03442627936601639, 66.40530395507812, 65.1801986694336, 65.80653381347656, 63.75201416015625, 67.95982360839844, 68.22174072265625, 64.4422378540039, 65.35552215576172, 0.023928141221404076, 0.020473988726735115, 2.0038676261901855, 1.9042555093765259, 1.9534300565719604, 2.056354284286499, 1.8355177640914917, 1.9488855600357056, 0.022072572261095047, 2.0563409328460693, 2.0287957191467285, 1.8960075378417969, 1.9648114442825317, 2.0605831146240234, 1.889723539352417, 2.0456860065460205, 1.858388066291809, 2.0760247707366943, 1.8370460271835327, 1.8384126424789429, 1.9253219366073608, 1.9607316255569458, 1.8807686567306519, 1.8749676942825317, 2.0464577674865723, 0.013724085874855518, 2.0051426887512207, 2.0477852821350098, 2.0590898990631104, 2.036937952041626, 1.9724652767181396, 2.1324050426483154, 2.0606839656829834, 2.018348217010498, 1.9626384973526, 1.9187241792678833, 1.9449751377105713, 1.9242119789123535, 1.9592853784561157, 2.063951015472412, 2.0937225818634033, 0.018920809030532837, 1.8852016925811768, 2.0012478828430176, 1.9649564027786255, 2.01473331451416, 1.8493149280548096, 2.082435131072998, 2.0351483821868896, 2.1275641918182373, 1.8540630340576172, 1.9911580085754395, 2.0015969276428223, 0.021191781386733055, 1.9398808479309082, 1.8929755687713623]\n"
     ]
    }
   ],
   "execution_count": 4
  },
  {
   "metadata": {
    "ExecuteTime": {
     "end_time": "2024-07-19T18:46:47.969468Z",
     "start_time": "2024-07-19T18:46:47.966758Z"
    }
   },
   "cell_type": "code",
   "source": [
    "# cluster and print charge data\n",
    "charge_tolerance = 0.05\n",
    "charge_clusters = cluster(chrg_vals, charge_tolerance)\n",
    "print(charge_clusters[3]) # example of a cluster of similar charge values\n",
    "len(charge_clusters) # number of clusters from the dataset"
   ],
   "id": "6c97832a4cba9e60",
   "outputs": [
    {
     "name": "stdout",
     "output_type": "stream",
     "text": [
      "[0.01035875454545021, 0.010415450669825077, 0.01061808317899704, 0.01065809652209282, 0.010965881869196892, 0.01105970237404108, 0.011125271208584309, 0.011180619709193707, 0.01122649759054184, 0.011262034066021442, 0.01134533528238535, 0.011398899368941784, 0.011409829370677471]\n"
     ]
    },
    {
     "data": {
      "text/plain": [
       "31"
      ]
     },
     "execution_count": 5,
     "metadata": {},
     "output_type": "execute_result"
    }
   ],
   "execution_count": 5
  },
  {
   "metadata": {
    "ExecuteTime": {
     "end_time": "2024-07-19T18:46:48.418226Z",
     "start_time": "2024-07-19T18:46:47.970657Z"
    }
   },
   "cell_type": "code",
   "source": [
    "# plot a bar chart of clusters\n",
    "import matplotlib.pyplot as plt\n",
    "import numpy as np\n",
    "fig, ax = plt.subplots()\n",
    "\n",
    "# filter out charge values less than 0.1 and greater than 3.0\n",
    "plot_charge_clusters = [cluster for cluster in charge_clusters if 0.1 < float(np.mean(cluster)) < 50.0]\n",
    "\n",
    "values = [float(np.mean(plot_charge_clusters[i])) for i in range(len(plot_charge_clusters))] \n",
    "counts = [len(plot_charge_clusters[i]) for i in range(len(plot_charge_clusters))]\n",
    "bars = ax.bar(values, counts)\n",
    "colors = [\"red\", \"orange\", \"yellow\", \"green\", \"blue\", \"violet\"]\n",
    "for i in range(len(bars)):\n",
    "    bars[i].set_color(colors[i % len(colors)])\n",
    "\n",
    "ax.set_ylabel('Number of Counts')\n",
    "ax.set_title('Number of Counts per Charge Value')\n",
    "plt.show()"
   ],
   "id": "6ffe1ea15126ddcf",
   "outputs": [
    {
     "data": {
      "text/plain": [
       "<Figure size 640x480 with 1 Axes>"
      ],
      "image/png": "[encoded data removed]"
     },
     "metadata": {},
     "output_type": "display_data"
    }
   ],
   "execution_count": 6
  },
  {
   "metadata": {
    "ExecuteTime": {
     "end_time": "2024-07-19T18:50:14.469831Z",
     "start_time": "2024-07-19T18:50:14.414820Z"
    }
   },
   "cell_type": "code",
   "source": [
    "fig, ax = plt.subplots()\n",
    "\n",
    "# filter out charge values less than 0.1\n",
    "plot_charge_clusters = [cluster for cluster in charge_clusters if 0.1 < float(np.mean(cluster))]\n",
    "\n",
    "values = [float(np.mean(plot_charge_clusters[i])) for i in range(len(plot_charge_clusters))] \n",
    "counts = [len(plot_charge_clusters[i]) for i in range(len(plot_charge_clusters))]\n",
    "bars = ax.bar(counts, values)\n",
    "colors = [\"red\", \"orange\", \"yellow\", \"green\", \"blue\", \"violet\"]\n",
    "for i in range(len(bars)):\n",
    "    bars[i].set_color(colors[i % len(colors)])\n",
    "\n",
    "ax.set_ylabel('Charge (pC)')\n",
    "ax.set_title('Number of Counts per Charge Value')\n",
    "plt.show()\n",
    "print(values)"
   ],
   "id": "808f6e5c078c5c54",
   "outputs": [
    {
     "data": {
      "text/plain": [
       "<Figure size 640x480 with 1 Axes>"
      ],
      "image/png": "[encoded data removed]"
     },
     "metadata": {},
     "output_type": "display_data"
    },
    {
     "name": "stdout",
     "output_type": "stream",
     "text": [
      "[0.2573322653770447, 0.29974523186683655, 0.3997775077819824, 0.4645740290482839, 0.5125857472419739, 0.5798130631446838, 0.6650620996952057, 1.9294865348122336, 2.0652921199798584, 65.8904218673706]\n"
     ]
    }
   ],
   "execution_count": 15
  },
  {
   "metadata": {
    "ExecuteTime": {
     "end_time": "2024-07-19T18:46:48.510471Z",
     "start_time": "2024-07-19T18:46:48.456644Z"
    }
   },
   "cell_type": "code",
   "source": [
    "fig, ax = plt.subplots()\n",
    "\n",
    "values = [float(np.mean(charge_clusters[i])) for i in range(len(charge_clusters))] \n",
    "counts = [len(charge_clusters[i]) for i in range(len(charge_clusters))]\n",
    "ax.hist(values, bins=100)\n",
    "ax.set_ylabel('Number of Counts')\n",
    "ax.set_xlabel('Charge (pC)')\n",
    "plt.show()"
   ],
   "id": "b5bd5cfeb29a7ab0",
   "outputs": [
    {
     "data": {
      "text/plain": [
       "<Figure size 640x480 with 1 Axes>"
      ],
      "image/png": "[encoded data removed]"
     },
     "metadata": {},
     "output_type": "display_data"
    }
   ],
   "execution_count": 8
  },
  {
   "metadata": {
    "ExecuteTime": {
     "end_time": "2024-07-19T18:46:48.567970Z",
     "start_time": "2024-07-19T18:46:48.511052Z"
    }
   },
   "cell_type": "code",
   "source": [
    "fig, ax = plt.subplots()\n",
    "\n",
    "values = [float(np.mean(plot_charge_clusters[i])) for i in range(len(plot_charge_clusters))] \n",
    "counts = [len(plot_charge_clusters[i]) for i in range(len(plot_charge_clusters))]\n",
    "\n",
    "ax.hist(values, bins=100)\n",
    "ax.set_ylabel('Number of Counts')\n",
    "ax.set_xlabel('Charge (pC)')\n",
    "plt.show()"
   ],
   "id": "34a4f9412ecb9f00",
   "outputs": [
    {
     "data": {
      "text/plain": [
       "<Figure size 640x480 with 1 Axes>"
      ],
      "image/png": "[encoded data removed]"
     },
     "metadata": {},
     "output_type": "display_data"
    }
   ],
   "execution_count": 9
  },
  {
   "metadata": {
    "ExecuteTime": {
     "end_time": "2024-07-19T18:46:48.570653Z",
     "start_time": "2024-07-19T18:46:48.568650Z"
    }
   },
   "cell_type": "code",
   "source": "print(values)",
   "id": "1ac74e853ec78ebd",
   "outputs": [
    {
     "name": "stdout",
     "output_type": "stream",
     "text": [
      "[0.2573322653770447, 0.29974523186683655, 0.3997775077819824, 0.4645740290482839, 0.5125857472419739, 0.5798130631446838, 0.6650620996952057, 1.9294865348122336, 2.0652921199798584, 65.8904218673706]\n"
     ]
    }
   ],
   "execution_count": 10
  },
  {
   "metadata": {
    "ExecuteTime": {
     "end_time": "2024-07-19T18:46:48.572778Z",
     "start_time": "2024-07-19T18:46:48.571232Z"
    }
   },
   "cell_type": "code",
   "source": "",
   "id": "e5a4906b7d5fa452",
   "outputs": [],
   "execution_count": 10
  }
 ],
 "metadata": {
  "kernelspec": {
   "display_name": "Python 3",
   "language": "python",
   "name": "python3"
  },
  "language_info": {
   "codemirror_mode": {
    "name": "ipython",
    "version": 2
   },
   "file_extension": ".py",
   "mimetype": "text/x-python",
   "name": "python",
   "nbconvert_exporter": "python",
   "pygments_lexer": "ipython2",
   "version": "2.7.6"
  }
 },
 "nbformat": 4,
 "nbformat_minor": 5
}
