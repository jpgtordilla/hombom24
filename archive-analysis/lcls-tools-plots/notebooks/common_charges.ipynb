{
 "cells": [
  {
   "metadata": {},
   "cell_type": "markdown",
   "source": [
    "### Finding Common Charges\n",
    "\n",
    "The goal of this exercise is to find the most common charges seen when the beam is on. \n",
    "\n",
    "This will involve: \n",
    "1. pulling data from the accelerator during beam time for the PV \"TORO:GUNB:360:CHRG\"\n",
    "2. identify clusters with an algorithm\n",
    "3. plot bar chart of clusters with pC as the y-axis\n",
    "\n",
    "### Cluster finding algorithm ###\n",
    "- sort all charge values\n",
    "- start with first value and calculate the tolerance amount \n",
    "- for each following value, check if it's within the tolerance amount. If it is, add to a cluster list. If not, create a new list, add it to that, and let it be the new comparison. \n",
    "- repeat the previous step with this new comparison point\n",
    "- repeat until all datapoints have been emptied from the dataset"
   ],
   "id": "37f7324aba6bd949"
  },
  {
   "metadata": {
    "ExecuteTime": {
     "end_time": "2024-07-11T21:59:50.523401Z",
     "start_time": "2024-07-11T21:59:50.519012Z"
    }
   },
   "cell_type": "code",
   "source": [
    "def cluster(vals, tolerance) -> list: \n",
    "    vals.sort()\n",
    "    \n",
    "    clusters = [[]]\n",
    "    cluster_index = 0\n",
    "    while len(vals) > 0:\n",
    "        comparison = vals.pop(0)\n",
    "        clusters[cluster_index].append(comparison)\n",
    "        for i in range(len(vals)):\n",
    "            next_val = vals.pop(0)\n",
    "            if abs(next_val - comparison) <= (tolerance * comparison):  # if next_val is within 50% of comparison's value\n",
    "                clusters[cluster_index].append(next_val)  # add next_val to cluster\n",
    "            else:\n",
    "                cluster_index += 1\n",
    "                clusters.append([])  # add a new empty list\n",
    "                clusters[cluster_index].append(next_val)  # add next_val to the next cluster\n",
    "                break\n",
    "    \n",
    "    return clusters"
   ],
   "id": "16f15ecd4507c16a",
   "outputs": [],
   "execution_count": 26
  },
  {
   "metadata": {
    "ExecuteTime": {
     "end_time": "2024-07-11T21:59:50.529674Z",
     "start_time": "2024-07-11T21:59:50.525477Z"
    }
   },
   "cell_type": "code",
   "source": [
    "# cluster algorithm demo\n",
    "vals_unsorted = [1, 1.2, 1.3, 1.1, 1.2, 3.2, 3.5, 3.3, 2, 2.1]\n",
    "val_tolerance = 0.5\n",
    "cluster(vals_unsorted, val_tolerance)"
   ],
   "id": "a8f62e65dc937d70",
   "outputs": [
    {
     "data": {
      "text/plain": [
       "[[1, 1.1, 1.2, 1.2, 1.3], [2, 2.1], [3.2, 3.3, 3.5]]"
      ]
     },
     "execution_count": 27,
     "metadata": {},
     "output_type": "execute_result"
    }
   ],
   "execution_count": 27
  },
  {
   "metadata": {
    "ExecuteTime": {
     "end_time": "2024-07-11T21:59:50.642126Z",
     "start_time": "2024-07-11T21:59:50.531062Z"
    }
   },
   "cell_type": "code",
   "source": [
    "# pull TORO:GUNB:360:CHRG data from the accelerator and convert to a list of charges\n",
    "\n",
    "# imports\n",
    "import sys\n",
    "sys.path.append('/Users/jonathontordilla/Desktop/hombom24/archive-analysis/lcls-tools-plots/lcls_tools') # path to tools \n",
    "import common.data_analysis.archiver as arch # type: ignore\n",
    "from datetime import datetime\n",
    "# specify timeframe with a datetime object\n",
    "start_date = \"2024/07/02 14:42:36\"\n",
    "end_date = \"2024/07/02 15:42:36\" \n",
    "format_string = \"%Y/%m/%d %H:%M:%S\"\n",
    "start_date_obj = datetime.strptime(start_date, format_string)\n",
    "end_date_obj = datetime.strptime(end_date, format_string)\n",
    "# submit request with a list of PVs\n",
    "data = arch.get_values_over_time_range([\"TORO:GUNB:360:CHRG\"], start_date_obj, end_date_obj)\n",
    "soln_dict = data[\"SOLN:GUNB:100:BACT\"]\n",
    "soln_values = soln_dict.values # list \n",
    "print(soln_values)"
   ],
   "id": "e5aaf63535263c84",
   "outputs": [
    {
     "name": "stdout",
     "output_type": "stream",
     "text": [
      "[]\n"
     ]
    }
   ],
   "execution_count": 28
  },
  {
   "metadata": {
    "ExecuteTime": {
     "end_time": "2024-07-11T21:59:50.646194Z",
     "start_time": "2024-07-11T21:59:50.643804Z"
    }
   },
   "cell_type": "code",
   "source": [
    "# cluster and print charge data\n",
    "charge_tolerance = 0.05\n",
    "charge_clusters = cluster(soln_values, charge_tolerance)\n",
    "print(charge_clusters)"
   ],
   "id": "6c97832a4cba9e60",
   "outputs": [
    {
     "name": "stdout",
     "output_type": "stream",
     "text": [
      "[[]]\n"
     ]
    }
   ],
   "execution_count": 29
  },
  {
   "metadata": {
    "ExecuteTime": {
     "end_time": "2024-07-11T21:59:50.910602Z",
     "start_time": "2024-07-11T21:59:50.650533Z"
    }
   },
   "cell_type": "code",
   "source": [
    "# plot a bar chart of clusters\n",
    "import matplotlib.pyplot as plt\n",
    "import numpy as np\n",
    "fig, ax = plt.subplots()\n",
    "values = [float(np.mean(charge_clusters[i])) for i in range(len(charge_clusters))] # list of average cluster values\n",
    "counts = [len(charge_clusters[i]) for i in range(len(charge_clusters))]\n",
    "ax.bar(values, counts)\n",
    "ax.set_ylabel('Number of counts per charge')\n",
    "ax.set_title('Number of charges per charge value')\n",
    "ax.legend(title='Charge values')\n",
    "plt.show()"
   ],
   "id": "6ffe1ea15126ddcf",
   "outputs": [
    {
     "name": "stderr",
     "output_type": "stream",
     "text": [
      "/opt/anaconda3/envs/jonathon-lcls/lib/python3.12/site-packages/numpy/_core/fromnumeric.py:3596: RuntimeWarning: Mean of empty slice.\n",
      "  return _methods._mean(a, axis=axis, dtype=dtype,\n",
      "/opt/anaconda3/envs/jonathon-lcls/lib/python3.12/site-packages/numpy/_core/_methods.py:138: RuntimeWarning: invalid value encountered in scalar divide\n",
      "  ret = ret.dtype.type(ret / rcount)\n",
      "/var/folders/cq/8dkx5q294xz7cqz20lrdpqj80000gn/T/ipykernel_43528/1505834549.py:10: UserWarning: No artists with labels found to put in legend.  Note that artists whose label start with an underscore are ignored when legend() is called with no argument.\n",
      "  ax.legend(title='Charge values')\n"
     ]
    },
    {
     "data": {
      "text/plain": [
       "<Figure size 640x480 with 1 Axes>"
      ],
      "image/png": "[encoded data removed]"
     },
     "metadata": {},
     "output_type": "display_data"
    }
   ],
   "execution_count": 31
  }
 ],
 "metadata": {
  "kernelspec": {
   "display_name": "Python 3",
   "language": "python",
   "name": "python3"
  },
  "language_info": {
   "codemirror_mode": {
    "name": "ipython",
    "version": 2
   },
   "file_extension": ".py",
   "mimetype": "text/x-python",
   "name": "python",
   "nbconvert_exporter": "python",
   "pygments_lexer": "ipython2",
   "version": "2.7.6"
  }
 },
 "nbformat": 4,
 "nbformat_minor": 5
}
