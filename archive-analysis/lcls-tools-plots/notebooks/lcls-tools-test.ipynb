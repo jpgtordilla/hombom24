{
 "cells": [
  {
   "cell_type": "markdown",
   "metadata": {},
   "source": [
    "**BPM PVs**\n",
    "- BPMS:GUNB:925:X\n",
    "- BPMS:GUNB:925:Y\n",
    "- BPMS:L0B:0183:FW:X_SLOW\n",
    "- BPMS:L0B:0183:FW:Y_SLOW\n",
    "- BPMS:HTR:120:FW:X_SLOW\n",
    "- BPMS:HTR:120:FW:Y_SLOW\n",
    "- BPMS:GUNB:925:FW:X_SLOW\n",
    "- BPMS:GUNB:925:FW:Y_SLOW\n",
    "\n",
    "**Charge PVs**\n",
    "- TORO:GUNB:360:CHRG (pC)\n",
    "\n",
    "**Other PVs**\n",
    "- SOLN:GUNB:100:BACT\n",
    "- QUAD:GUNB:212:1:BACT\n",
    "- SOLN:GUNB:212:BACT\n",
    "- QUAD:GUNB:212:2:BACT\n",
    "- XCOR:GUNB:293:BACT\n",
    "- YCOR:GUNB:293:BACT\n",
    "- XCOR:GUNB:388:BACT\n",
    "- YCOR:GUNB:388:BACT\n",
    "- XCOR:GUNB:513:BACT\n",
    "- YCOR:GUNB:513:BACT\n",
    "- XCOR:GUNB:713:BACT\n",
    "- YCOR:GUNB:713:BACT\n",
    "- QUAD:GUNB:823:1:BACT\n",
    "- SOLN:GUNB:823:BACT\n",
    "- QUAD:GUNB:823:2:BACT\n",
    "- XCOR:GUNB:927:BACT\n",
    "- YCOR:GUNB:927:BACT\n",
    "\n",
    "Goal:\n",
    "1. Megaplot of magnets (to compare with ArchViewer and MEME)\n",
    "2. Megaplot correlation with TORO... (y-axis) and all other PVs (to compare with MEME)\n",
    "3. Smaller Megaplot correlation (to compare with ArchViewer and MEME) (pick from BPM and other PVs)"
   ]
  },
  {
   "cell_type": "code",
   "execution_count": 4,
   "metadata": {},
   "outputs": [],
   "source": [
    "import sys\n",
    " \n",
    "sys.path.append('/Users/jonathontordilla/Desktop/hombom24/archive-analysis/lcls-tools-plots/lcls_tools') # path to tools \n",
    " \n",
    "import common.data_analysis.archiver as arch # type: ignore"
   ]
  },
  {
   "cell_type": "code",
   "execution_count": 12,
   "metadata": {},
   "outputs": [],
   "source": [
    "\"\"\"\n",
    "def get_values_over_time_range(\n",
    "    pv_list: List[str],\n",
    "    start_time: datetime,\n",
    "    end_time: datetime,\n",
    "    time_delta: timedelta = None,\n",
    ") -> Dict[str, ArchiveDataHandler]:\n",
    "\"\"\"\n",
    "\n",
    "from datetime import datetime\n",
    "\n",
    "# specify a start date\n",
    "start_date = \"2024/06/02 14:42:36\"\n",
    "end_date = \"2024/06/02 15:42:36\" \n",
    "format_string = \"%Y/%m/%d %H:%M:%S\"\n",
    "start_date_obj = datetime.strptime(start_date, format_string)\n",
    "end_date_obj = datetime.strptime(end_date, format_string)\n",
    "\n",
    "# submit request with a list of PVs\n",
    "data = arch.get_values_over_time_range([\"SOLN:GUNB:100:BACT\", \"BPMS:L0B:0183:FW:X_SLOW\"], start_date_obj, end_date_obj)"
   ]
  },
  {
   "cell_type": "code",
   "execution_count": 13,
   "metadata": {},
   "outputs": [
    {
     "name": "stdout",
     "output_type": "stream",
     "text": [
      "{\n",
      "    \"is_valid\": [],\n",
      "    \"timestamps\": [],\n",
      "    \"values\": []\n",
      "}\n"
     ]
    },
    {
     "ename": "IndexError",
     "evalue": "list index out of range",
     "output_type": "error",
     "traceback": [
      "\u001b[0;31m---------------------------------------------------------------------------\u001b[0m",
      "\u001b[0;31mIndexError\u001b[0m                                Traceback (most recent call last)",
      "Cell \u001b[0;32mIn[13], line 13\u001b[0m\n\u001b[1;32m     10\u001b[0m bpm_values \u001b[38;5;241m=\u001b[39m bpm_dict\u001b[38;5;241m.\u001b[39mvalues\n\u001b[1;32m     12\u001b[0m \u001b[38;5;66;03m# each time interval is 1 second, but some PVs might be different\u001b[39;00m\n\u001b[0;32m---> 13\u001b[0m example_time \u001b[38;5;241m=\u001b[39m \u001b[43msoln_timestamps\u001b[49m\u001b[43m[\u001b[49m\u001b[38;5;241;43m2\u001b[39;49m\u001b[43m]\u001b[49m\n\u001b[1;32m     14\u001b[0m example_time\u001b[38;5;241m.\u001b[39mstrftime(\u001b[38;5;124m'\u001b[39m\u001b[38;5;124m%\u001b[39m\u001b[38;5;124mm/\u001b[39m\u001b[38;5;132;01m%d\u001b[39;00m\u001b[38;5;124m/\u001b[39m\u001b[38;5;124m%\u001b[39m\u001b[38;5;124mY \u001b[39m\u001b[38;5;124m%\u001b[39m\u001b[38;5;124mH:\u001b[39m\u001b[38;5;124m%\u001b[39m\u001b[38;5;124mM:\u001b[39m\u001b[38;5;124m%\u001b[39m\u001b[38;5;124mS\u001b[39m\u001b[38;5;124m'\u001b[39m)\n",
      "\u001b[0;31mIndexError\u001b[0m: list index out of range"
     ]
    }
   ],
   "source": [
    "print(data[\"SOLN:GUNB:100:BACT\"])\n",
    "\n",
    "# create a dictionary for a PV, access it with timestamps and values methods from archiver.py\n",
    "soln_dict = data[\"SOLN:GUNB:100:BACT\"]\n",
    "soln_timestamps = soln_dict.timestamps\n",
    "soln_values = soln_dict.values\n",
    "\n",
    "bpm_dict = data[\"BPMS:L0B:0183:FW:X_SLOW\"]\n",
    "bpm_timestamps = bpm_dict.timestamps\n",
    "bpm_values = bpm_dict.values\n",
    "\n",
    "# each time interval is 1 second, but some PVs might be different\n",
    "example_time = soln_timestamps[2]\n",
    "example_time.strftime('%m/%d/%Y %H:%M:%S')\n"
   ]
  },
  {
   "cell_type": "code",
   "execution_count": null,
   "metadata": {},
   "outputs": [
    {
     "ename": "",
     "evalue": "",
     "output_type": "error",
     "traceback": [
      "\u001b[1;31mRunning cells with 'Python 3.12.3' requires the ipykernel package.\n",
      "\u001b[1;31mRun the following command to install 'ipykernel' into the Python environment. \n",
      "\u001b[1;31mCommand: '/opt/homebrew/bin/python3 -m pip install ipykernel -U --user --force-reinstall'"
     ]
    }
   ],
   "source": [
    "# Clean timestamps \n",
    "\n",
    "soln_clean_timestamps = [soln_timestamps[i].strftime('%m/%d/%Y %H:%M:%S') for i in range(len(soln_timestamps))]\n",
    "bpm_clean_timestamps = [bpm_timestamps[i].strftime('%m/%d/%Y %H:%M:%S') for i in range(len(bpm_timestamps))]"
   ]
  },
  {
   "cell_type": "markdown",
   "metadata": {},
   "source": [
    "General Practice: \n",
    "1. If you are making a correlation: create a df with all PVs so that every timeframe list is the same length\n",
    "2. If you are just creating a plot or megaplot: create a df for each PV so that all data is preserved"
   ]
  },
  {
   "cell_type": "code",
   "execution_count": null,
   "metadata": {},
   "outputs": [
    {
     "ename": "",
     "evalue": "",
     "output_type": "error",
     "traceback": [
      "\u001b[1;31mRunning cells with 'Python 3.12.3' requires the ipykernel package.\n",
      "\u001b[1;31mRun the following command to install 'ipykernel' into the Python environment. \n",
      "\u001b[1;31mCommand: '/opt/homebrew/bin/python3 -m pip install ipykernel -U --user --force-reinstall'"
     ]
    }
   ],
   "source": [
    "# create a df for each PV (to preserve data points)\n",
    "import pandas as pd \n",
    "\n",
    "df_soln = pd.DataFrame({\"timestamps\": soln_clean_timestamps, \"SOLN:GUNB:100:BACT\": soln_values})\n",
    "df_bpm = pd.DataFrame({\"timestamps\": bpm_clean_timestamps, \"BPMS:L0B:0183:FW:X_SLOW\": bpm_values})\n",
    "\n",
    "# graph over time\n",
    "\n",
    "import matplotlib.pyplot as plt\n",
    "import matplotlib.ticker as ticker\n",
    "\n",
    "fig, ax = plt.subplots(figsize=(10, 7), layout='constrained')\n",
    "ax.scatter(df_soln[\"timestamps\"], df_soln[\"SOLN:GUNB:100:BACT\"], label=\"SOLN:GUNB:100:BACT\")\n",
    "ax.scatter(df_bpm[\"timestamps\"], df_bpm[\"BPMS:L0B:0183:FW:X_SLOW\"], label=\"BPMS:L0B:0183:FW:X_SLOW\")\n",
    "ax.xaxis.set_major_locator(ticker.LinearLocator(5))\n",
    "ax.set_title(\"PVs vs. Time\") \n",
    "ax.legend() "
   ]
  },
  {
   "cell_type": "code",
   "execution_count": null,
   "metadata": {},
   "outputs": [
    {
     "ename": "",
     "evalue": "",
     "output_type": "error",
     "traceback": [
      "\u001b[1;31mRunning cells with 'Python 3.12.3' requires the ipykernel package.\n",
      "\u001b[1;31mRun the following command to install 'ipykernel' into the Python environment. \n",
      "\u001b[1;31mCommand: '/opt/homebrew/bin/python3 -m pip install ipykernel -U --user --force-reinstall'"
     ]
    }
   ],
   "source": [
    "# graph a basic correlation\n",
    "\n",
    "# clean dfs so that timestamps align\n",
    "\n",
    "df_combined = pd.merge(df_soln, df_bpm, on=\"timestamps\")\n",
    "\n",
    "fig, ax = plt.subplots(figsize=(10, 7), layout='constrained')\n",
    "ax.scatter(df_combined[\"SOLN:GUNB:100:BACT\"], df_combined[\"BPMS:L0B:0183:FW:X_SLOW\"], label=\"BPMS:L0B:0183:FW:X_SLOW vs. SOLN:GUNB:100:BACT\")\n",
    "ax.xaxis.set_major_locator(ticker.LinearLocator(5))\n",
    "ax.set_title(\"BPMS:L0B:0183:FW:X_SLOW vs. SOLN:GUNB:100:BACT\") \n",
    "ax.legend() "
   ]
  },
  {
   "cell_type": "markdown",
   "metadata": {},
   "source": [
    "After completing these exercises, I will have the tools to create correlations similar to the methods I have in archviewer plots. An extra method that will enable adding an extra column to the df will be needed. "
   ]
  }
 ],
 "metadata": {
  "kernelspec": {
   "display_name": "test-jonathon-lcls",
   "language": "python",
   "name": "python3"
  },
  "language_info": {
   "codemirror_mode": {
    "name": "ipython",
    "version": 3
   },
   "file_extension": ".py",
   "mimetype": "text/x-python",
   "name": "python",
   "nbconvert_exporter": "python",
   "pygments_lexer": "ipython3",
   "version": "3.12.4"
  }
 },
 "nbformat": 4,
 "nbformat_minor": 2
}
