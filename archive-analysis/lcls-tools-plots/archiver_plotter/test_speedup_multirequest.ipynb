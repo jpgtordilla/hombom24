{
 "cells": [
  {
   "cell_type": "code",
   "id": "initial_id",
   "metadata": {
    "collapsed": true,
    "ExecuteTime": {
     "end_time": "2024-08-09T20:08:51.688417Z",
     "start_time": "2024-08-09T20:08:51.685396Z"
    }
   },
   "source": [
    "import sys\n",
    " \n",
    "sys.path.append('/Users/jonathontordilla/Desktop/hombom24/archive-analysis/lcls-tools-plots/lcls_tools') # path to tools \n",
    " \n",
    "import common.data_analysis.archiver as arch # type: ignore\n",
    "from datetime import datetime\n",
    "from datetime import timedelta"
   ],
   "outputs": [],
   "execution_count": 8
  },
  {
   "metadata": {
    "ExecuteTime": {
     "end_time": "2024-08-09T20:08:51.693461Z",
     "start_time": "2024-08-09T20:08:51.691012Z"
    }
   },
   "cell_type": "code",
   "source": [
    "# specify a start date\n",
    "start_date = \"2024/03/01 16:48:18\"\n",
    "end_date = \"2024/03/15 16:48:18\" \n",
    "format_string = \"%Y/%m/%d %H:%M:%S\"\n",
    "start_date_obj = datetime.strptime(start_date, format_string)\n",
    "end_date_obj = datetime.strptime(end_date, format_string)"
   ],
   "id": "8468314d8d627d84",
   "outputs": [],
   "execution_count": 9
  },
  {
   "metadata": {
    "ExecuteTime": {
     "end_time": "2024-08-09T20:08:59.080360Z",
     "start_time": "2024-08-09T20:08:51.694772Z"
    }
   },
   "cell_type": "code",
   "source": [
    "# submit request with a list of PVs\n",
    "data_both = arch.get_values_over_time_range([\"SOLN:GUNB:100:BACT\", \"BPMS:L0B:0183:FW:X_SLOW\"], start_date_obj, end_date_obj)"
   ],
   "id": "50c59817e1162827",
   "outputs": [],
   "execution_count": 10
  },
  {
   "metadata": {
    "ExecuteTime": {
     "end_time": "2024-08-09T20:09:06.434368Z",
     "start_time": "2024-08-09T20:08:59.081035Z"
    }
   },
   "cell_type": "code",
   "source": [
    "data_one = arch.get_values_over_time_range([\"SOLN:GUNB:100:BACT\"], start_date_obj, end_date_obj)\n",
    "data_two = arch.get_values_over_time_range([\"BPMS:L0B:0183:FW:X_SLOW\"], start_date_obj, end_date_obj)"
   ],
   "id": "4c3b64958bf53953",
   "outputs": [],
   "execution_count": 11
  }
 ],
 "metadata": {
  "kernelspec": {
   "display_name": "Python 3",
   "language": "python",
   "name": "python3"
  },
  "language_info": {
   "codemirror_mode": {
    "name": "ipython",
    "version": 2
   },
   "file_extension": ".py",
   "mimetype": "text/x-python",
   "name": "python",
   "nbconvert_exporter": "python",
   "pygments_lexer": "ipython2",
   "version": "2.7.6"
  }
 },
 "nbformat": 4,
 "nbformat_minor": 5
}
