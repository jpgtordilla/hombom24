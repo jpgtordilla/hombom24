{
 "cells": [
  {
   "cell_type": "code",
   "id": "initial_id",
   "metadata": {
    "collapsed": true,
    "ExecuteTime": {
     "end_time": "2024-07-24T17:34:43.694830Z",
     "start_time": "2024-07-24T17:34:43.691560Z"
    }
   },
   "source": [
    "def say_hello(): \n",
    "    print(\"Hello World!\")\n",
    "    \n",
    "def say_goodbye(): \n",
    "    print(\"Goodbye World!\")\n",
    "\n",
    "my_dict = {'func1': say_hello, 'func2': say_goodbye}"
   ],
   "outputs": [],
   "execution_count": 9
  },
  {
   "metadata": {
    "ExecuteTime": {
     "end_time": "2024-07-24T17:34:46.705876Z",
     "start_time": "2024-07-24T17:34:46.703895Z"
    }
   },
   "cell_type": "code",
   "source": "my_dict.get('func1')()",
   "id": "908df0c2042a8302",
   "outputs": [
    {
     "name": "stdout",
     "output_type": "stream",
     "text": [
      "Hello World!\n"
     ]
    }
   ],
   "execution_count": 11
  },
  {
   "metadata": {
    "ExecuteTime": {
     "end_time": "2024-07-24T17:34:59.103380Z",
     "start_time": "2024-07-24T17:34:59.100375Z"
    }
   },
   "cell_type": "code",
   "source": "my_dict['func1']()",
   "id": "e06157a105c1e9c5",
   "outputs": [
    {
     "name": "stdout",
     "output_type": "stream",
     "text": [
      "Hello World!\n"
     ]
    }
   ],
   "execution_count": 13
  },
  {
   "metadata": {},
   "cell_type": "code",
   "outputs": [],
   "execution_count": null,
   "source": "",
   "id": "155236e555e444d"
  }
 ],
 "metadata": {
  "kernelspec": {
   "display_name": "Python 3",
   "language": "python",
   "name": "python3"
  },
  "language_info": {
   "codemirror_mode": {
    "name": "ipython",
    "version": 2
   },
   "file_extension": ".py",
   "mimetype": "text/x-python",
   "name": "python",
   "nbconvert_exporter": "python",
   "pygments_lexer": "ipython2",
   "version": "2.7.6"
  }
 },
 "nbformat": 4,
 "nbformat_minor": 5
}
