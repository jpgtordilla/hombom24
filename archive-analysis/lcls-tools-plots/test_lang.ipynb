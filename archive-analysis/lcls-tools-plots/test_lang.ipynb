{
 "cells": [
  {
   "cell_type": "code",
   "id": "initial_id",
   "metadata": {
    "collapsed": true,
    "ExecuteTime": {
     "end_time": "2024-07-24T17:34:43.694830Z",
     "start_time": "2024-07-24T17:34:43.691560Z"
    }
   },
   "source": [
    "def say_hello(): \n",
    "    print(\"Hello World!\")\n",
    "    \n",
    "def say_goodbye(): \n",
    "    print(\"Goodbye World!\")\n",
    "\n",
    "my_dict = {'func1': say_hello, 'func2': say_goodbye}"
   ],
   "outputs": [],
   "execution_count": 9
  },
  {
   "metadata": {
    "ExecuteTime": {
     "end_time": "2024-07-24T17:34:46.705876Z",
     "start_time": "2024-07-24T17:34:46.703895Z"
    }
   },
   "cell_type": "code",
   "source": "my_dict.get('func1')()",
   "id": "908df0c2042a8302",
   "outputs": [
    {
     "name": "stdout",
     "output_type": "stream",
     "text": [
      "Hello World!\n"
     ]
    }
   ],
   "execution_count": 11
  },
  {
   "metadata": {
    "ExecuteTime": {
     "end_time": "2024-07-24T17:34:59.103380Z",
     "start_time": "2024-07-24T17:34:59.100375Z"
    }
   },
   "cell_type": "code",
   "source": "my_dict['func1']()",
   "id": "e06157a105c1e9c5",
   "outputs": [
    {
     "name": "stdout",
     "output_type": "stream",
     "text": [
      "Hello World!\n"
     ]
    }
   ],
   "execution_count": 13
  },
  {
   "metadata": {
    "ExecuteTime": {
     "end_time": "2024-07-24T23:17:48.736176Z",
     "start_time": "2024-07-24T23:17:48.731434Z"
    }
   },
   "cell_type": "code",
   "source": [
    "from datetime import datetime\n",
    "\n",
    "date_list = [\"07/02/2020 02:00:00\", \"07/01/2020 01:00:00\", \"07/01/2020 01:00:00\"]\n",
    "date_list = [datetime.strptime(date, \"%m/%d/%Y %H:%M:%S\").strftime(\"%Y/%m/%d %H:%M:%S\") for date in date_list]\n",
    "first_date = date_list[0]\n",
    "last_date = date_list[-1]\n",
    "date_format_list = [\"%Y/\", \"%m/\", \"%d\", \" \", \"%H:\", \"%M:\", \"%S\"]\n",
    "for i in range(len(first_date)):\n",
    "    curr_first_date = first_date[i]\n",
    "    curr_last_date = last_date[i]\n",
    "    if curr_first_date != curr_last_date:\n",
    "        break\n",
    "    if curr_first_date == \"/\" or curr_first_date == \":\" or curr_last_date == \" \":\n",
    "        del date_format_list[0]\n",
    "        print(date_format_list)\n",
    "date_format_str = \"\".join(date_format_list)\n",
    "xticklabels = [datetime.strptime(date, \"%Y/%m/%d %H:%M:%S\").strftime(date_format_str) for date in date_list]\n",
    "\n",
    "xticklabels"
   ],
   "id": "155236e555e444d",
   "outputs": [
    {
     "name": "stdout",
     "output_type": "stream",
     "text": [
      "['%m/', '%d', ' ', '%H:', '%M:', '%S']\n",
      "['%d', ' ', '%H:', '%M:', '%S']\n"
     ]
    },
    {
     "data": {
      "text/plain": [
       "['02 02:00:00', '01 01:00:00', '01 01:00:00']"
      ]
     },
     "execution_count": 44,
     "metadata": {},
     "output_type": "execute_result"
    }
   ],
   "execution_count": 44
  },
  {
   "metadata": {},
   "cell_type": "code",
   "outputs": [],
   "execution_count": null,
   "source": "",
   "id": "d73d9efde6653267"
  }
 ],
 "metadata": {
  "kernelspec": {
   "display_name": "Python 3",
   "language": "python",
   "name": "python3"
  },
  "language_info": {
   "codemirror_mode": {
    "name": "ipython",
    "version": 2
   },
   "file_extension": ".py",
   "mimetype": "text/x-python",
   "name": "python",
   "nbconvert_exporter": "python",
   "pygments_lexer": "ipython2",
   "version": "2.7.6"
  }
 },
 "nbformat": 4,
 "nbformat_minor": 5
}
